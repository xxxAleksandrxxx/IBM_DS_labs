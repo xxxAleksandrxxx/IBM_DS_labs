{
 "cells": [
  {
   "attachments": {},
   "cell_type": "markdown",
   "metadata": {},
   "source": [
    "In this project, you will work with three datasets that are available on the City of Chicago’s Data Portal:\n",
    "\n",
    "Socioeconomic indicators in Chicago\n",
    "Chicago public schools\n",
    "Chicago crime data"
   ]
  },
  {
   "attachments": {},
   "cell_type": "markdown",
   "metadata": {},
   "source": [
    "#### Exercise 1 Question 1\n",
    "Write and execute a SQL query to list the school names, community names and average attendance for communities with a hardship index of 98."
   ]
  },
  {
   "cell_type": "markdown",
   "metadata": {},
   "source": [
    "```sql\n",
    "-- MY\n",
    "SELECT CPS.NAME_OF_SCHOOL, CPS.COMMUNITY_AREA_NAME, CPS.AVERAGE_STUDENT_ATTENDANCE\n",
    "FROM CHICAGO_PUBLIC_SCHOOLS AS CPS\n",
    "INNER JOIN CENSUS_DATA AS CD\n",
    "ON CPS.COMMUNITY_AREA_NUMBER = CD.COMMUNITY_AREA_NUMBER\n",
    "WHERE CD.HARDSHIP_INDEX = '98';\n",
    "\n",
    "-- WITH HINT - LEFT JOIN\n",
    "SELECT CPS.NAME_OF_SCHOOL, CPS.COMMUNITY_AREA_NAME, CPS.AVERAGE_STUDENT_ATTENDANCE\n",
    "FROM CHICAGO_PUBLIC_SCHOOLS AS CPS\n",
    "LEFT JOIN CENSUS_DATA AS CD\n",
    "ON CPS.COMMUNITY_AREA_NUMBER = CD.COMMUNITY_AREA_NUMBER\n",
    "WHERE CD.HARDSHIP_INDEX = '98';\n",
    "\n",
    "-- FROM ANSERS\n",
    "SELECT CPS.NAME_OF_SCHOOL, CPS.COMMUNITY_AREA_NAME, CPS.AVERAGE_STUDENT_ATTENDANCE\n",
    "FROM CHICAGO_PUBLIC_SCHOOLS AS CPS\n",
    "RIGHT JOIN CENSUS_DATA AS CD\n",
    "ON CPS.COMMUNITY_AREA_NUMBER = CD.COMMUNITY_AREA_NUMBER\n",
    "WHERE CD.HARDSHIP_INDEX = '98';\n",
    "```"
   ]
  },
  {
   "attachments": {},
   "cell_type": "markdown",
   "metadata": {},
   "source": [
    "#### Exercise 1 Question 2\n",
    "Write and execute a SQL query to list all crimes that took place at a school. Include case number, crime type and community name."
   ]
  },
  {
   "cell_type": "markdown",
   "metadata": {},
   "source": [
    "```sql\n",
    "SELECT CCD.CASE_NUMBER, CCD.PRIMARY_TYPE, CD.COMMUNITY_AREA_NAME\n",
    "FROM CHICAGO_CRIME_DATA AS CCD\n",
    "LEFT JOIN CENSUS_DATA AS CD\n",
    "ON CCD.COMMUNITY_AREA_NUMBER = CD.COMMUNITY_AREA_NUMBER\n",
    "WHERE UPPER(LOCATION_DESCRIPTION) LIKE '%SCHOOL%';\n",
    "\n",
    "\n",
    "-- FROM ANSWER\n",
    "SELECT CCD.CASE_NUMBER, CCD.PRIMARY_TYPE, CD.COMMUNITY_AREA_NAME\n",
    "FROM CHICAGO_CRIME_DATA AS CCD\n",
    "LEFT JOIN CENSUS_DATA AS CD\n",
    "ON CCD.COMMUNITY_AREA_NUMBER = CD.COMMUNITY_AREA_NUMBER\n",
    "WHERE UPPER(LOCATION_DESCRIPTION) LIKE '%SCHOOL%';\n",
    "```"
   ]
  },
  {
   "attachments": {},
   "cell_type": "markdown",
   "metadata": {},
   "source": [
    "#### Exercise 2 Question 1\n",
    "Write and execute a SQL statement to create a view showing the columns listed in the following table, with new column names as shown in the second column."
   ]
  },
  {
   "cell_type": "markdown",
   "metadata": {},
   "source": [
    "```sql\n",
    "CREATE VIEW E2Q1_VIEW \n",
    "(NAME_OF_SCHOOL, Safety_Icon, Family_Involvement_Icon, Environment_Icon, Instruction_Icon, Leaders_Icon, Teachers_Icon) \n",
    "AS\n",
    "SELECT School_Name, Safety_Rating, Family_Rating, Environment_Rating, Instruction_Rating, Leaders_Rating, Teachers_Rating\n",
    "FROM CHICAGO_PUBLIC_SCHOOLS;\n",
    "```"
   ]
  },
  {
   "attachments": {},
   "cell_type": "markdown",
   "metadata": {},
   "source": [
    "Write and execute a SQL statement that returns all of the columns from the view."
   ]
  },
  {
   "cell_type": "markdown",
   "metadata": {},
   "source": [
    "```sql\n",
    "\n",
    "SHOW * FROM E2Q1_VIEW;\n",
    "```"
   ]
  },
  {
   "attachments": {},
   "cell_type": "markdown",
   "metadata": {},
   "source": [
    "Write and execute a SQL statement that returns just the school name and leaders rating from the view."
   ]
  },
  {
   "cell_type": "markdown",
   "metadata": {},
   "source": [
    "```sql\n",
    "SELECT School_Name, Leaders_Rating FROM E2Q1_VIEW;\n",
    "```"
   ]
  },
  {
   "attachments": {},
   "cell_type": "markdown",
   "metadata": {},
   "source": [
    "#### Exercise 3 Question 1\n",
    "Write the structure of a query to create or replace a stored procedure called UPDATE_LEADERS_SCORE that takes a in_School_ID parameter as an integer and a in_Leader_Score parameter as an integer. Don’t forget to use the #SET TERMINATOR statement to use the @ for the CREATE statement terminator."
   ]
  },
  {
   "cell_type": "markdown",
   "metadata": {},
   "source": [
    "```sql\n",
    "--#SET TERMINATOR @\n",
    "CREATE OR REPLACE PROCEDURE UPDATE_LEADERS_SCORE \n",
    "(IN in_School_ID INTEGER, IN in_Leader_Score INTEGER)\n",
    "LANGUAGE SQL\n",
    "MODIFIES SQL DATA\n",
    "BEGIN\n",
    "--PROCEDURE BODY\n",
    "END\n",
    "@\n",
    "\n",
    "```"
   ]
  },
  {
   "attachments": {},
   "cell_type": "markdown",
   "metadata": {},
   "source": [
    "#### Exercise 3 Question 2\n",
    "Inside your stored procedure, write a SQL statement to update the Leaders_Score field in the CHICAGO_PUBLIC_SCHOOLS table for the school identified by in_School_ID to the value in the in_Leader_Score parameter."
   ]
  },
  {
   "cell_type": "markdown",
   "metadata": {},
   "source": [
    "```sql\n",
    "--#SET TERMINATOR @\n",
    "CREATE OR REPLACE PROCEDURE UPDATE_LEADERS_SCORE \n",
    "(IN in_School_ID INTEGER, IN in_Leader_Score INTEGER)\n",
    "LANGUAGE SQL\n",
    "MODIFIES SQL DATA\n",
    "BEGIN\n",
    "    UPDATE  CHICAGO_PUBLIC_SCHOOLS\n",
    "    SET Leaders_Score = in_Leader_Score\n",
    "    WHERE School_ID = in_School_ID;\n",
    "END\n",
    "@\n",
    "```"
   ]
  },
  {
   "attachments": {},
   "cell_type": "markdown",
   "metadata": {},
   "source": [
    "#### Exercise 3 Question 3\n",
    "Inside your stored procedure, write a SQL IF statement to update the Leaders_Icon field in the CHICAGO_PUBLIC_SCHOOLS table for the school identified by in_School_ID using the following information."
   ]
  },
  {
   "cell_type": "markdown",
   "metadata": {},
   "source": [
    "```sql\n",
    "--#SET TERMINATOR @\n",
    "CREATE OR REPLACE PROCEDURE UPDATE_LEADERS_SCORE \n",
    "(IN in_School_ID INTEGER, IN in_Leader_Score INTEGER)\n",
    "LANGUAGE SQL\n",
    "MODIFIES SQL DATA\n",
    "BEGIN\n",
    "    IF in_Leader_Score > 0 AND in_Leader_Score < 20 THEN\n",
    "        UPDATE  CHICAGO_PUBLIC_SCHOOLS\n",
    "        SET Leaders_Icon = 'Very weak'\n",
    "        WHERE School_ID = in_School_ID;\n",
    "    ELSEIF in_Leader_Score < 40 THEN\n",
    "        UPDATE  CHICAGO_PUBLIC_SCHOOLS\n",
    "        SET Leaders_Icon = 'Weak'\n",
    "        WHERE School_ID = in_School_ID;\n",
    "    ELSEIF in_Leader_Score < 60 THEN\n",
    "        UPDATE  CHICAGO_PUBLIC_SCHOOLS\n",
    "        SET Leaders_Icon = 'Average'\n",
    "        WHERE School_ID = in_School_ID;\n",
    "    ELSEIF in_Leader_Score < 80 THEN\n",
    "        UPDATE  CHICAGO_PUBLIC_SCHOOLS\n",
    "        SET Leaders_Icon = 'Strong'\n",
    "        WHERE School_ID = in_School_ID;\n",
    "    ELSEIF in_Leader_Score < 100 THEN\n",
    "        UPDATE  CHICAGO_PUBLIC_SCHOOLS\n",
    "        SET Leaders_Icon = 'Very strong'\n",
    "        WHERE School_ID = in_School_ID;\n",
    "    END IF;\n",
    "END\n",
    "@\n",
    "\n",
    "```"
   ]
  },
  {
   "attachments": {},
   "cell_type": "markdown",
   "metadata": {},
   "source": [
    "#### Exercise 3 Question 4\n",
    "Run your code to create the stored procedure.\n",
    "Take a screenshot showing the SQL query and its results.\n",
    "\n",
    "Write a query to call the stored procedure, passing a valid school ID and a leader score of 50, to check that the procedure works as expected."
   ]
  },
  {
   "cell_type": "markdown",
   "metadata": {},
   "source": [
    "```sql\n",
    "SELECT School_ID, Leaders_Score, Leaders_Icon FROM CHICAGO_PUBLIC_SCHOOLS LIMIT 3;\n",
    "```"
   ]
  },
  {
   "cell_type": "markdown",
   "metadata": {
    "vscode": {
     "languageId": "sql"
    }
   },
   "source": [
    "```sql\n",
    "-- working variant\n",
    "--MySQL\n",
    "DELIMITER @\n",
    "DROP PROCEDURE IF EXISTS UPDATE_LEADERS_SCORE2@\n",
    "CREATE PROCEDURE UPDATE_LEADERS_SCORE2()\n",
    "BEGIN\n",
    "    IF in_School_ID > 50 THEN\n",
    "        SELECT '>50';\n",
    "    ELSE\n",
    "        SELECT 'ELSE';\n",
    "    END IF;\n",
    "END @\n",
    "DELIMITER ;\n",
    "\n",
    "```"
   ]
  },
  {
   "cell_type": "markdown",
   "metadata": {
    "vscode": {
     "languageId": "sql"
    }
   },
   "source": [
    "```sql\n",
    "-- working variant\n",
    "DELIMITER @\n",
    "DROP PROCEDURE IF EXISTS UPDATE_LEADERS_SCORE2@\n",
    "CREATE PROCEDURE UPDATE_LEADERS_SCORE2(IN in_School_ID INTEGER, IN in_Leader_Score INTEGER)\n",
    "BEGIN\n",
    "    SELECT 10;\n",
    "    SELECT 20;\n",
    "    SELECT 30;\n",
    "END @\n",
    "DELIMITER ;\n",
    "\n",
    "```"
   ]
  },
  {
   "cell_type": "markdown",
   "metadata": {
    "vscode": {
     "languageId": "sql"
    }
   },
   "source": [
    "```sql\n",
    "-- working variant\n",
    "DELIMITER @\n",
    "DROP PROCEDURE IF EXISTS UPDATE_LEADERS_SCORE2@\n",
    "CREATE PROCEDURE UPDATE_LEADERS_SCORE2\n",
    "(IN in_School_ID INTEGER, IN in_Leader_Score INTEGER)\n",
    "BEGIN\n",
    "    IF in_School_ID > 10 THEN\n",
    "        SELECT 10;\n",
    "    ELSE\n",
    "        SELECT 20;\n",
    "        SELECT 30;\n",
    "    END IF;\n",
    "END @\n",
    "DELIMITER ;\n",
    "```"
   ]
  },
  {
   "attachments": {},
   "cell_type": "markdown",
   "metadata": {},
   "source": [
    "#### Exercise 4 Question 1\n",
    "Update your stored procedure definition. Add a generic ELSE clause to the IF statement that rolls back the current work if the score did not fit any of the preceding categories."
   ]
  },
  {
   "cell_type": "markdown",
   "metadata": {
    "vscode": {
     "languageId": "sql"
    }
   },
   "source": [
    "```sql\n",
    "--#SET TERMINATOR @\n",
    "CREATE OR REPLACE PROCEDURE UPDATE_LEADERS_SCORE \n",
    "(IN in_School_ID INTEGER, IN in_Leader_Score INTEGER)\n",
    "LANGUAGE SQL\n",
    "MODIFIES SQL DATA\n",
    "BEGIN\n",
    "    IF in_Leader_Score > 0 AND in_Leader_Score < 20 THEN\n",
    "        UPDATE  CHICAGO_PUBLIC_SCHOOLS\n",
    "        SET Leaders_Icon = 'Very weak'\n",
    "        WHERE School_ID = in_School_ID;\n",
    "    ELSEIF in_Leader_Score < 40 THEN\n",
    "        UPDATE  CHICAGO_PUBLIC_SCHOOLS\n",
    "        SET Leaders_Icon = 'Weak'\n",
    "        WHERE School_ID = in_School_ID;\n",
    "    ELSEIF in_Leader_Score < 60 THEN\n",
    "        UPDATE  CHICAGO_PUBLIC_SCHOOLS\n",
    "        SET Leaders_Icon = 'Average'\n",
    "        WHERE School_ID = in_School_ID;\n",
    "    ELSEIF in_Leader_Score < 80 THEN\n",
    "        UPDATE  CHICAGO_PUBLIC_SCHOOLS\n",
    "        SET Leaders_Icon = 'Strong'\n",
    "        WHERE School_ID = in_School_ID;\n",
    "    ELSEIF in_Leader_Score < 100 THEN\n",
    "        UPDATE  CHICAGO_PUBLIC_SCHOOLS\n",
    "        SET Leaders_Icon = 'Very strong'\n",
    "        WHERE School_ID = in_School_ID;\n",
    "    ELSE\n",
    "        ROLLBACK WORK;\n",
    "        SELECT \"VALUE OUT OF RANGE 0-99\"\n",
    "    END IF;\n",
    "END\n",
    "@\n",
    "```"
   ]
  },
  {
   "attachments": {},
   "cell_type": "markdown",
   "metadata": {},
   "source": [
    "#### Exercise 4 Question 2\n",
    "Update your stored procedure definition again. Add a statement to commit the current unit of work at the end of the procedure."
   ]
  },
  {
   "cell_type": "markdown",
   "metadata": {
    "vscode": {
     "languageId": "sql"
    }
   },
   "source": [
    "```sql\n",
    "--#SET TERMINATOR @\n",
    "CREATE OR REPLACE PROCEDURE UPDATE_LEADERS_SCORE \n",
    "(IN in_School_ID INTEGER, IN in_Leader_Score INTEGER)\n",
    "LANGUAGE SQL\n",
    "MODIFIES SQL DATA\n",
    "BEGIN\n",
    "    IF in_Leader_Score > 0 AND in_Leader_Score < 20 THEN\n",
    "        UPDATE  CHICAGO_PUBLIC_SCHOOLS\n",
    "        SET Leaders_Icon = 'Very weak'\n",
    "        WHERE School_ID = in_School_ID;\n",
    "    ELSEIF in_Leader_Score < 40 THEN\n",
    "        UPDATE  CHICAGO_PUBLIC_SCHOOLS\n",
    "        SET Leaders_Icon = 'Weak'\n",
    "        WHERE School_ID = in_School_ID;\n",
    "    ELSEIF in_Leader_Score < 60 THEN\n",
    "        UPDATE  CHICAGO_PUBLIC_SCHOOLS\n",
    "        SET Leaders_Icon = 'Average'\n",
    "        WHERE School_ID = in_School_ID;\n",
    "    ELSEIF in_Leader_Score < 80 THEN\n",
    "        UPDATE  CHICAGO_PUBLIC_SCHOOLS\n",
    "        SET Leaders_Icon = 'Strong'\n",
    "        WHERE School_ID = in_School_ID;\n",
    "    ELSEIF in_Leader_Score < 100 THEN\n",
    "        UPDATE  CHICAGO_PUBLIC_SCHOOLS\n",
    "        SET Leaders_Icon = 'Very strong'\n",
    "        WHERE School_ID = in_School_ID;\n",
    "    ELSE\n",
    "        ROLLBACK WORK;\n",
    "        SELECT \"VALUE OUT OF RANGE 0-99\"\n",
    "    END IF;\n",
    "    COMMIT WORK;\n",
    "END\n",
    "@\n",
    "```"
   ]
  }
 ],
 "metadata": {
  "kernelspec": {
   "display_name": "env_coursera_lab",
   "language": "python",
   "name": "python3"
  },
  "language_info": {
   "name": "python",
   "version": "3.9.16"
  },
  "orig_nbformat": 4
 },
 "nbformat": 4,
 "nbformat_minor": 2
}
